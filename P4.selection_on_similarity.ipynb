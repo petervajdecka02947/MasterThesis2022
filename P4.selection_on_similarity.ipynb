{
 "cells": [
  {
   "cell_type": "code",
   "execution_count": 19,
   "id": "26739ce4-5ee2-4659-98e2-0495d6105d1b",
   "metadata": {},
   "outputs": [],
   "source": [
    "import pandas as pd"
   ]
  },
  {
   "cell_type": "code",
   "execution_count": 26,
   "id": "ee8cbdc3-46cb-41a2-a08b-5115bd519101",
   "metadata": {},
   "outputs": [],
   "source": [
    "data_with_similarity_dir = \"./Data/Similarity/\"\n",
    "data_selection_dir = \"./Data/Selection/\"\n",
    "import_data_name = \"data_explanation_prep_4.pickle\"\n",
    "\n",
    "#data_with_similarity_dir = \"./Data/Similarity/sumeczech-1.0-dev_splitted.pickle\"\n",
    "\n",
    "percentage_outlier = 0  # if 0 thresh applied, else remove top outliers\n",
    "thresh = [0,1.1]  #  [0.49,0.55] [0.46,0.54]\n",
    "method = \"LOF_base\"\n",
    "IsClaimAdded = True\n",
    "\n",
    "\n",
    "#min_no_sentence_source_text = 5 \n",
    "#deleted_amount_in_decimal = 0.2 "
   ]
  },
  {
   "cell_type": "markdown",
   "id": "ba42bd41-f917-414e-974f-80fd97f044f8",
   "metadata": {},
   "source": [
    "#### Low LOF -> inlier \n",
    "#### High LOF -> outlier\n",
    "#### Low average cosine distance -> inlier\n",
    "#### High average cossine -> outlier"
   ]
  },
  {
   "cell_type": "code",
   "execution_count": 21,
   "id": "dd2dd701-cfeb-4944-8b3e-4825474a75d4",
   "metadata": {},
   "outputs": [
    {
     "data": {
      "text/plain": [
       "465236"
      ]
     },
     "execution_count": 21,
     "metadata": {},
     "output_type": "execute_result"
    }
   ],
   "source": [
    "data_sim = pd.read_pickle(data_with_similarity_dir + import_data_name) # data_explanation_prep_shortExplanation_prep.pickle\"\n",
    "data_sim['source_text_sentences'] = data_sim['source_text_sentences'].astype(str)\n",
    "len(data_sim)"
   ]
  },
  {
   "cell_type": "code",
   "execution_count": 22,
   "id": "73bfb549-16f6-4e8f-8da3-7ea375576d46",
   "metadata": {},
   "outputs": [],
   "source": [
    "# TODO try hybrid model if both outlier and inlier are working perfect are working perfect "
   ]
  },
  {
   "cell_type": "code",
   "execution_count": 23,
   "id": "3a422aa0-f3cb-4420-876d-079c9b5ab6fc",
   "metadata": {
    "tags": []
   },
   "outputs": [],
   "source": [
    "def generate_data_without_outliers(data,outlier_col_name,threshold,saving_path, percentage): # outliers , inliers, hybrid\n",
    "    \n",
    "    data_labels_no = len(data.id.unique())\n",
    "    data_sentences = len(data)\n",
    "    \n",
    "    if percentage != 0:\n",
    "        \n",
    "        top_highest_inliers = round((1 - percentage) * len(data_sim))\n",
    "        # select top most inlier sentences \n",
    "        selection = data.sort_values([outlier_col_name], ascending=[True]).head(top_highest_inliers)\n",
    "        # set right order of sentences\n",
    "        selection = selection.sort_values(['id', 'source_text_sentences_index'], ascending=[True, True])\n",
    "        # info\n",
    "        #percentage_outliers = round(((len(selection)/data_sentences)*100),3)\n",
    "        #print(\"Deleted {} %  of outlier sentences !\".format(percentage_outliers))\n",
    "        \n",
    "    else:\n",
    "   \n",
    "        selection = data[(data[outlier_col_name] > threshold[0]) & (data[outlier_col_name] < threshold[1])].sort_values([\"id\", \n",
    "                                                                                                                         \"source_text_sentences_index\"\n",
    "                                                                                                                        ], ascending = (True, True))\n",
    "        ouliers = data[(data[outlier_col_name] >= threshold[1])]\n",
    "        inliers = data[(data[outlier_col_name] <= threshold[0])]\n",
    "\n",
    "        percentage_outliers = round(((len(ouliers)/data_sentences)*100),3)\n",
    "        percentage_inliers = round(((len(inliers)/data_sentences)*100),3)\n",
    "\n",
    "        print(\"Deleted {} %  of outlier sentences !\".format(percentage_outliers))\n",
    "        print(\"Deleted {} %  of inlier sentences !\".format(percentage_inliers))\n",
    "    \n",
    "    selection_labels_no = len(selection.id.unique())\n",
    "    selection_sentences = len(selection)\n",
    "    \n",
    "    if data_labels_no != selection_labels_no:\n",
    "        print(\"Some labels are deleted, will not continue, try to increase threshold !\")\n",
    "        return None \n",
    "    else:\n",
    "        difference = round((((data_sentences - selection_sentences)/data_sentences)*100),3)\n",
    "        print(\"Deleted {} %  of sentences !\".format(difference))\n",
    "        \n",
    "        shorter = (\n",
    "                   selection\n",
    "                           .groupby([\"id\"])[\"source_text_sentences\"]\n",
    "                           .apply(' '.join)\n",
    "                           .to_frame()\n",
    "                           .rename(columns={\"source_text_sentences\": \"source_text_shorter\"})\n",
    "                  )\n",
    "        \n",
    "        selection = pd.merge(selection[[\"id\",\"source_text\",\"target_text\",\"statement_prep\"]].drop_duplicates(), shorter, on = \"id\", how = \"left\") # type\n",
    "        if IsClaimAdded == True:\n",
    "            selection['source_text'] = selection['statement_prep'] + selection['source_text']\n",
    "            selection['source_text_shorter'] = selection['statement_prep'] + selection['source_text_shorter']\n",
    "            \n",
    "            if percentage != 0:\n",
    "                selection.to_pickle(saving_path + \"claim_{}_{}_{}\".format(outlier_col_name, percentage, import_data_name))\n",
    "            else:\n",
    "                selection.to_pickle(saving_path + \"claim_{}_{}_{}_{}_{}\".format(outlier_col_name,threshold[0],threshold[1],difference,import_data_name))\n",
    "                \n",
    "        else:\n",
    "            \n",
    "            if percentage != 0:\n",
    "                selection.to_pickle(saving_path + \"{}_{}_{}\".format(outlier_col_name, percentage, import_data_name))\n",
    "            else:\n",
    "                selection.to_pickle(saving_path + \"claim_{}_{}_{}_{}_{}\".format(outlier_col_name,threshold[0],threshold[1],difference,import_data_name))\n",
    "            \n",
    "        \n",
    "        print(\"Data successfully saved!\")\n",
    "        print(len(selection))\n",
    "        \n",
    "        #display(selection)"
   ]
  },
  {
   "cell_type": "code",
   "execution_count": 24,
   "id": "9b0c1b8a-b90d-4d2e-9689-b927ae22a70b",
   "metadata": {},
   "outputs": [
    {
     "data": {
      "text/html": [
       "<div>\n",
       "<style scoped>\n",
       "    .dataframe tbody tr th:only-of-type {\n",
       "        vertical-align: middle;\n",
       "    }\n",
       "\n",
       "    .dataframe tbody tr th {\n",
       "        vertical-align: top;\n",
       "    }\n",
       "\n",
       "    .dataframe thead th {\n",
       "        text-align: right;\n",
       "    }\n",
       "</style>\n",
       "<table border=\"1\" class=\"dataframe\">\n",
       "  <thead>\n",
       "    <tr style=\"text-align: right;\">\n",
       "      <th></th>\n",
       "      <th>LOF_base</th>\n",
       "    </tr>\n",
       "  </thead>\n",
       "  <tbody>\n",
       "    <tr>\n",
       "      <th>count</th>\n",
       "      <td>465236.000000</td>\n",
       "    </tr>\n",
       "    <tr>\n",
       "      <th>mean</th>\n",
       "      <td>0.529973</td>\n",
       "    </tr>\n",
       "    <tr>\n",
       "      <th>std</th>\n",
       "      <td>0.035681</td>\n",
       "    </tr>\n",
       "    <tr>\n",
       "      <th>min</th>\n",
       "      <td>0.456932</td>\n",
       "    </tr>\n",
       "    <tr>\n",
       "      <th>25%</th>\n",
       "      <td>0.503560</td>\n",
       "    </tr>\n",
       "    <tr>\n",
       "      <th>50%</th>\n",
       "      <td>0.519462</td>\n",
       "    </tr>\n",
       "    <tr>\n",
       "      <th>75%</th>\n",
       "      <td>0.548292</td>\n",
       "    </tr>\n",
       "    <tr>\n",
       "      <th>max</th>\n",
       "      <td>1.000000</td>\n",
       "    </tr>\n",
       "  </tbody>\n",
       "</table>\n",
       "</div>"
      ],
      "text/plain": [
       "            LOF_base\n",
       "count  465236.000000\n",
       "mean        0.529973\n",
       "std         0.035681\n",
       "min         0.456932\n",
       "25%         0.503560\n",
       "50%         0.519462\n",
       "75%         0.548292\n",
       "max         1.000000"
      ]
     },
     "execution_count": 24,
     "metadata": {},
     "output_type": "execute_result"
    }
   ],
   "source": [
    "data_sim[[\"LOF_base\"]].describe()"
   ]
  },
  {
   "cell_type": "code",
   "execution_count": 25,
   "id": "16a5b210-e8d1-4593-915d-f7317f94b639",
   "metadata": {},
   "outputs": [
    {
     "name": "stdout",
     "output_type": "stream",
     "text": [
      "Deleted 0.002 %  of outlier sentences !\n",
      "Deleted 0.0 %  of inlier sentences !\n",
      "Deleted 0.002 %  of sentences !\n",
      "Data successfully saved!\n",
      "12891\n"
     ]
    }
   ],
   "source": [
    "#min 475\n",
    "generate_data_without_outliers(\n",
    "                                data_sim,\n",
    "                                method, # None for hybrid \n",
    "                                thresh, # list for hybrid\n",
    "                                data_selection_dir,\n",
    "                                percentage_outlier\n",
    ")"
   ]
  },
  {
   "cell_type": "code",
   "execution_count": 7,
   "id": "02827824-6883-40f6-8ca7-435222bd9a2d",
   "metadata": {},
   "outputs": [
    {
     "name": "stdout",
     "output_type": "stream",
     "text": [
      "Deleted 16.845 %  of outlier sentences !\n",
      "Deleted 0.003 %  of inlier sentences !\n",
      "Deleted 16.848 %  of sentences !\n",
      "Data successfully transformed!\n",
      "Data successfully saved!\n",
      "211863\n"
     ]
    }
   ],
   "source": [
    "# min 46\n",
    "generate_data_without_outliers(\n",
    "                                data_sim,\n",
    "                                method, # None for hybrid \n",
    "                                thresh, # list for hybrid\n",
    "                                data_selection_dir\n",
    ")"
   ]
  },
  {
   "cell_type": "code",
   "execution_count": 7,
   "id": "9143ec6a-eb3f-4568-806f-20da3b84e8ec",
   "metadata": {},
   "outputs": [
    {
     "name": "stdout",
     "output_type": "stream",
     "text": [
      "Deleted 16.845 %  of outlier sentences !\n",
      "Deleted 0.029 %  of inlier sentences !\n",
      "Deleted 16.874 %  of sentences !\n",
      "Data successfully transformed!\n",
      "Data successfully saved!\n",
      "211863\n"
     ]
    }
   ],
   "source": [
    "generate_data_without_outliers(\n",
    "                                data_sim,\n",
    "                                method, # None for hybrid \n",
    "                                thresh, # list for hybrid\n",
    "                                data_selection_dir\n",
    ")"
   ]
  },
  {
   "cell_type": "code",
   "execution_count": null,
   "id": "e2567cc9-f4fd-4d7f-8bd1-7ea3c1ca86a4",
   "metadata": {},
   "outputs": [],
   "source": [
    "data_selection_dir"
   ]
  },
  {
   "cell_type": "code",
   "execution_count": null,
   "id": "d2447292-e768-4386-bdba-d520694ae9f0",
   "metadata": {},
   "outputs": [],
   "source": []
  },
  {
   "cell_type": "code",
   "execution_count": null,
   "id": "33af97e8-0c72-4210-9502-1d193c9345b0",
   "metadata": {},
   "outputs": [],
   "source": []
  },
  {
   "cell_type": "code",
   "execution_count": null,
   "id": "18bc2a41-9f57-426d-abb6-7057fbfea27a",
   "metadata": {},
   "outputs": [],
   "source": []
  },
  {
   "cell_type": "code",
   "execution_count": null,
   "id": "e4251b2a-36bb-43fa-b36f-5242390ed3e5",
   "metadata": {},
   "outputs": [],
   "source": []
  },
  {
   "cell_type": "code",
   "execution_count": null,
   "id": "84684938-6a07-4edd-9ab3-101453fab51d",
   "metadata": {},
   "outputs": [],
   "source": []
  },
  {
   "cell_type": "code",
   "execution_count": null,
   "id": "b1e98de5-3a33-47ce-9e78-7c6267e830ba",
   "metadata": {},
   "outputs": [],
   "source": []
  }
 ],
 "metadata": {
  "kernelspec": {
   "display_name": "Python 3",
   "language": "python",
   "name": "python3"
  },
  "language_info": {
   "codemirror_mode": {
    "name": "ipython",
    "version": 3
   },
   "file_extension": ".py",
   "mimetype": "text/x-python",
   "name": "python",
   "nbconvert_exporter": "python",
   "pygments_lexer": "ipython3",
   "version": "3.9.7"
  }
 },
 "nbformat": 4,
 "nbformat_minor": 5
}
